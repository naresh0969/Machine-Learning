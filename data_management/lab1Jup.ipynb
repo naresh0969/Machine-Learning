{
 "cells": [
  {
   "cell_type": "code",
   "execution_count": 8,
   "metadata": {},
   "outputs": [
    {
     "name": "stdout",
     "output_type": "stream",
     "text": [
      "0    10\n",
      "1    20\n",
      "2    30\n",
      "3    40\n",
      "dtype: int64\n"
     ]
    }
   ],
   "source": [
    "import pandas as pd \n",
    "data = [10, 20, 30, 40] \n",
    "v = pd.Series(data) \n",
    "print(v) \n"
   ]
  },
  {
   "cell_type": "code",
   "execution_count": null,
   "metadata": {},
   "outputs": [],
   "source": [
    "import pandas as pd \n",
    "\n",
    "data = { \n",
    "    'Name': ['Alice', 'Bob', 'Charlie'], \n",
    "    'Age': [25, 30, 35], \n",
    "    'City': ['New York', 'Los Angeles', 'Chicago'] \n",
    "} \n",
    "df = pd.DataFrame(data) \n",
    "print(df) "
   ]
  },
  {
   "cell_type": "code",
   "execution_count": 10,
   "metadata": {},
   "outputs": [
    {
     "name": "stdout",
     "output_type": "stream",
     "text": [
      "       Fruit  Kgs\n",
      "day1  banana   25\n",
      "day2   apple   30\n",
      "day3   mango   35\n"
     ]
    }
   ],
   "source": [
    "import pandas as pd \n",
    "\n",
    "data = { \n",
    "    'Fruit': ['banana', 'apple', 'mango'], \n",
    "    'Kgs': [25, 30, 35]\n",
    "} \n",
    "df = pd.DataFrame(data,index=[\"day1\",\"day2\",\"day3\"]) \n",
    "print(df) "
   ]
  },
  {
   "cell_type": "code",
   "execution_count": 12,
   "metadata": {},
   "outputs": [
    {
     "name": "stdout",
     "output_type": "stream",
     "text": [
      "   TransactionID TransactionDate  UserID  ProductID  Quantity\n",
      "0              1      2010-08-21     7.0          2         1\n",
      "1              2      2011-05-26     3.0          4         1\n",
      "   TransactionID TransactionDate  UserID  ProductID  Quantity\n",
      "9             10      2016-05-08     3.0          4         4\n"
     ]
    }
   ],
   "source": [
    "import pandas as pd\n",
    "df = pd.read_csv('transactions.csv')\n",
    "print(df.head(2))\n"
   ]
  },
  {
   "cell_type": "code",
   "execution_count": 14,
   "metadata": {},
   "outputs": [
    {
     "name": "stdout",
     "output_type": "stream",
     "text": [
      "   TransactionID TransactionDate  UserID  ProductID  Quantity\n",
      "6              7      2013-12-30     3.0          4         1\n",
      "7              8      2014-04-24     NaN          2         3\n",
      "8              9      2015-04-24     7.0          4         3\n",
      "9             10      2016-05-08     3.0          4         4\n"
     ]
    }
   ],
   "source": [
    "import pandas as pd\n",
    "df = pd.read_csv('transactions.csv')\n",
    "print(df.tail(4))"
   ]
  },
  {
   "cell_type": "code",
   "execution_count": 44,
   "metadata": {},
   "outputs": [
    {
     "name": "stdout",
     "output_type": "stream",
     "text": [
      "<class 'pandas.core.frame.DataFrame'>\n",
      "RangeIndex: 10 entries, 0 to 9\n",
      "Data columns (total 5 columns):\n",
      " #   Column           Non-Null Count  Dtype  \n",
      "---  ------           --------------  -----  \n",
      " 0   TransactionID    10 non-null     int64  \n",
      " 1   TransactionDate  10 non-null     object \n",
      " 2   UserID           9 non-null      float64\n",
      " 3   ProductID        10 non-null     int64  \n",
      " 4   Quantity         10 non-null     int64  \n",
      "dtypes: float64(1), int64(3), object(1)\n",
      "memory usage: 532.0+ bytes\n",
      "None\n",
      "Discribe\n",
      "       TransactionID    UserID  ProductID   Quantity\n",
      "count       10.00000  9.000000  10.000000  10.000000\n",
      "mean         5.50000  3.444444   3.400000   2.400000\n",
      "std          3.02765  2.127858   1.074968   1.712698\n",
      "min          1.00000  1.000000   2.000000   1.000000\n",
      "25%          3.25000  2.000000   2.250000   1.000000\n",
      "50%          5.50000  3.000000   4.000000   2.000000\n",
      "75%          7.75000  3.000000   4.000000   3.000000\n",
      "max         10.00000  7.000000   5.000000   6.000000\n"
     ]
    }
   ],
   "source": [
    "import pandas as pd\n",
    "df = pd.read_csv('transactions.csv')\n",
    "print(df.info())\n",
    "print(\"Discribe\")\n",
    "print(df.describe())"
   ]
  },
  {
   "cell_type": "code",
   "execution_count": 19,
   "metadata": {},
   "outputs": [
    {
     "name": "stdout",
     "output_type": "stream",
     "text": [
      "   TransactionID TransactionDate  UserID  ProductID  Quant\n",
      "0              1      2010-08-21     7.0          2      1\n",
      "1              2      2011-05-26     3.0          4      1\n",
      "2              3      2011-06-16     3.0          3      1\n",
      "3              4      2012-08-26     1.0          2      3\n",
      "4              5      2013-06-06     2.0          4      1\n",
      "5              6      2013-12-23     2.0          5      6\n",
      "6              7      2013-12-30     3.0          4      1\n",
      "7              8      2014-04-24     NaN          2      3\n",
      "8              9      2015-04-24     7.0          4      3\n",
      "9             10      2016-05-08     3.0          4      4\n"
     ]
    }
   ],
   "source": [
    "import pandas as pd\n",
    "df=pd.read_csv(\"transactions.csv\")\n",
    "df.rename(columns={\"Quantity\":\"Quant\"},inplace=True)\n",
    "print(df)"
   ]
  },
  {
   "cell_type": "code",
   "execution_count": 41,
   "metadata": {},
   "outputs": [
    {
     "name": "stdout",
     "output_type": "stream",
     "text": [
      "2025-01-28\n",
      "2025-01-28 00:00:00\n"
     ]
    }
   ],
   "source": [
    "import pandas as pd \n",
    "from datetime import date\n",
    "print((date.today()))\n",
    "now=pd.to_datetime(str(date.today()),format=\"%Y-%m-%d\")\n",
    "# print(\"Today's date :\")\n",
    "print(now)\n"
   ]
  },
  {
   "cell_type": "markdown",
   "metadata": {},
   "source": [
    "\n",
    "Time"
   ]
  },
  {
   "cell_type": "code",
   "execution_count": 42,
   "metadata": {},
   "outputs": [
    {
     "name": "stdout",
     "output_type": "stream",
     "text": [
      "Current date and time:\n",
      "2025-01-28 15:28:03.314040\n"
     ]
    }
   ],
   "source": [
    "import pandas as pd\n",
    "from datetime import datetime\n",
    "\n",
    "# Get the current date and time\n",
    "now = pd.to_datetime(datetime.now())\n",
    "\n",
    "print(\"Current date and time:\")\n",
    "print(now)\n"
   ]
  },
  {
   "cell_type": "markdown",
   "metadata": {},
   "source": [
    "### Accessing coulms\n"
   ]
  },
  {
   "cell_type": "code",
   "execution_count": 48,
   "metadata": {},
   "outputs": [
    {
     "name": "stdout",
     "output_type": "stream",
     "text": [
      "0    2010-08-21\n",
      "1    2011-05-26\n",
      "2    2011-06-16\n",
      "3    2012-08-26\n",
      "4    2013-06-06\n",
      "5    2013-12-23\n",
      "6    2013-12-30\n",
      "7    2014-04-24\n",
      "8    2015-04-24\n",
      "9    2016-05-08\n",
      "Name: TransactionDate, dtype: object\n"
     ]
    }
   ],
   "source": [
    "import pandas as pd\n",
    "df=pd.read_csv(\"transactions.csv\")\n",
    "print(df['TransactionDate'])"
   ]
  },
  {
   "cell_type": "code",
   "execution_count": 53,
   "metadata": {},
   "outputs": [
    {
     "name": "stdout",
     "output_type": "stream",
     "text": [
      "  TransactionDate  TransactionID\n",
      "0      2010-08-21              1\n",
      "1      2011-05-26              2\n",
      "2      2011-06-16              3\n",
      "3      2012-08-26              4\n",
      "4      2013-06-06              5\n",
      "5      2013-12-23              6\n",
      "6      2013-12-30              7\n",
      "7      2014-04-24              8\n",
      "8      2015-04-24              9\n",
      "9      2016-05-08             10\n"
     ]
    }
   ],
   "source": [
    "#Multiple columns\n",
    "\n",
    "import pandas as pd\n",
    "df=pd.read_csv(\"transactions.csv\")\n",
    "print(df[['TransactionDate','TransactionID']])"
   ]
  },
  {
   "cell_type": "code",
   "execution_count": 55,
   "metadata": {},
   "outputs": [
    {
     "name": "stdout",
     "output_type": "stream",
     "text": [
      "TransactionID               4\n",
      "TransactionDate    2012-08-26\n",
      "UserID                    1.0\n",
      "ProductID                   2\n",
      "Quantity                    3\n",
      "Name: 3, dtype: object\n"
     ]
    }
   ],
   "source": [
    "print(df.iloc[3])"
   ]
  }
 ],
 "metadata": {
  "kernelspec": {
   "display_name": "Python 3",
   "language": "python",
   "name": "python3"
  },
  "language_info": {
   "codemirror_mode": {
    "name": "ipython",
    "version": 3
   },
   "file_extension": ".py",
   "mimetype": "text/x-python",
   "name": "python",
   "nbconvert_exporter": "python",
   "pygments_lexer": "ipython3",
   "version": "3.12.4"
  }
 },
 "nbformat": 4,
 "nbformat_minor": 2
}
