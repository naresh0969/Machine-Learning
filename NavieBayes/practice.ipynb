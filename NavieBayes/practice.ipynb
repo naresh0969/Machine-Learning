{
 "cells": [
  {
   "cell_type": "code",
   "execution_count": 43,
   "id": "9687bd9f",
   "metadata": {},
   "outputs": [],
   "source": [
    "#1. import required  libraries"
   ]
  },
  {
   "cell_type": "code",
   "execution_count": 44,
   "id": "2e21be01",
   "metadata": {},
   "outputs": [],
   "source": [
    "#2. import 20 new group dataset from scikit learn datasets"
   ]
  },
  {
   "cell_type": "code",
   "execution_count": 45,
   "id": "06152660",
   "metadata": {},
   "outputs": [],
   "source": [
    "#3.load 20news group train subset"
   ]
  },
  {
   "cell_type": "code",
   "execution_count": 46,
   "id": "e4e23544",
   "metadata": {},
   "outputs": [],
   "source": [
    "#4.load 20news group test subset"
   ]
  },
  {
   "cell_type": "code",
   "execution_count": 47,
   "id": "50ddafc3",
   "metadata": {},
   "outputs": [],
   "source": [
    "#5.print all target labels"
   ]
  },
  {
   "cell_type": "code",
   "execution_count": 48,
   "id": "3d03e8f1",
   "metadata": {},
   "outputs": [],
   "source": [
    "#6 prepare subset of categories alt.athesssm com.graphics sci.space"
   ]
  },
  {
   "cell_type": "code",
   "execution_count": 49,
   "id": "decda166",
   "metadata": {},
   "outputs": [],
   "source": [
    "#7 load 20 news group train subset with three categories alt.atheism;comp.graphic"
   ]
  },
  {
   "cell_type": "code",
   "execution_count": 50,
   "id": "80d4a78d",
   "metadata": {},
   "outputs": [],
   "source": [
    "#8 load 20 news group test subset with three categories alt.atheism;com.graphics"
   ]
  },
  {
   "cell_type": "code",
   "execution_count": 51,
   "id": "48b1423d",
   "metadata": {},
   "outputs": [],
   "source": [
    "#9 print news training set target names(labels)"
   ]
  },
  {
   "cell_type": "code",
   "execution_count": 52,
   "id": "1b7acafe",
   "metadata": {},
   "outputs": [],
   "source": [
    "#10 print new training data of 5th article"
   ]
  },
  {
   "cell_type": "code",
   "execution_count": 53,
   "id": "c372f9e4",
   "metadata": {},
   "outputs": [],
   "source": [
    "#11 print shape of data and targets"
   ]
  },
  {
   "cell_type": "code",
   "execution_count": 54,
   "id": "aa4378fa",
   "metadata": {},
   "outputs": [],
   "source": [
    "#12 print training set filenames"
   ]
  },
  {
   "cell_type": "code",
   "execution_count": 55,
   "id": "1e1bef48",
   "metadata": {},
   "outputs": [],
   "source": [
    "#13 by using count vectorize train data into numerical format considering "
   ]
  },
  {
   "cell_type": "code",
   "execution_count": 56,
   "id": "5ea304c9",
   "metadata": {},
   "outputs": [],
   "source": [
    "#14 use bernoullNB for training"
   ]
  },
  {
   "cell_type": "code",
   "execution_count": 57,
   "id": "36bfcca8",
   "metadata": {},
   "outputs": [],
   "source": [
    "#15 by using count vectorizet convert test data into numeric format considering only"
   ]
  },
  {
   "cell_type": "code",
   "execution_count": 58,
   "id": "53e39862",
   "metadata": {},
   "outputs": [],
   "source": [
    "#16 predict target labels for testing set"
   ]
  },
  {
   "cell_type": "code",
   "execution_count": 59,
   "id": "e8139d1a",
   "metadata": {},
   "outputs": [],
   "source": [
    "#17 find accuracy score on test set"
   ]
  },
  {
   "cell_type": "code",
   "execution_count": 60,
   "id": "d1ee79a1",
   "metadata": {},
   "outputs": [],
   "source": [
    "#18 used tfidfvectorizer instead fo count vectorizer and use multimonial NB"
   ]
  },
  {
   "cell_type": "code",
   "execution_count": 61,
   "id": "5d8b1cf4",
   "metadata": {},
   "outputs": [],
   "source": [
    "#19 find test set accuracy"
   ]
  },
  {
   "cell_type": "code",
   "execution_count": 62,
   "id": "644966be",
   "metadata": {},
   "outputs": [],
   "source": [
    "#try with avoiding stopwords and repeat the same"
   ]
  },
  {
   "cell_type": "code",
   "execution_count": null,
   "id": "be216d7c",
   "metadata": {},
   "outputs": [],
   "source": []
  },
  {
   "cell_type": "code",
   "execution_count": null,
   "id": "ea2d5477",
   "metadata": {},
   "outputs": [],
   "source": []
  },
  {
   "cell_type": "code",
   "execution_count": null,
   "id": "25fad651",
   "metadata": {},
   "outputs": [],
   "source": []
  },
  {
   "cell_type": "code",
   "execution_count": null,
   "id": "35ec5db0",
   "metadata": {},
   "outputs": [],
   "source": []
  },
  {
   "cell_type": "code",
   "execution_count": null,
   "id": "eef46335",
   "metadata": {},
   "outputs": [],
   "source": []
  },
  {
   "cell_type": "code",
   "execution_count": null,
   "id": "0d61d641",
   "metadata": {},
   "outputs": [],
   "source": []
  },
  {
   "cell_type": "code",
   "execution_count": null,
   "id": "e886ce05",
   "metadata": {},
   "outputs": [],
   "source": []
  },
  {
   "cell_type": "code",
   "execution_count": null,
   "id": "99eede80",
   "metadata": {},
   "outputs": [],
   "source": []
  }
 ],
 "metadata": {
  "kernelspec": {
   "display_name": "Python 3",
   "language": "python",
   "name": "python3"
  },
  "language_info": {
   "codemirror_mode": {
    "name": "ipython",
    "version": 3
   },
   "file_extension": ".py",
   "mimetype": "text/x-python",
   "name": "python",
   "nbconvert_exporter": "python",
   "pygments_lexer": "ipython3",
   "version": "3.12.4"
  }
 },
 "nbformat": 4,
 "nbformat_minor": 5
}
