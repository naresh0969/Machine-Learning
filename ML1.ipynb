{
 "cells": [
  {
   "cell_type": "code",
   "execution_count": 1,
   "id": "56aeabbf-8991-49e3-8463-877c05b55d7e",
   "metadata": {},
   "outputs": [
    {
     "name": "stdout",
     "output_type": "stream",
     "text": [
      "0    1\n",
      "1    2\n",
      "2    3\n",
      "3    4\n",
      "dtype: int64\n"
     ]
    }
   ],
   "source": [
    "import pandas as pd\n",
    "data=[1,2,3,4]\n",
    "df=pd.Series(data)\n",
    "print(df)"
   ]
  },
  {
   "cell_type": "code",
   "execution_count": 3,
   "id": "95362be3-98e4-4bec-ba08-6b702164c718",
   "metadata": {},
   "outputs": [
    {
     "name": "stdout",
     "output_type": "stream",
     "text": [
      "blenders    [123, 432, 322]\n",
      "brands      [saa, kaa, maa]\n",
      "dtype: object\n"
     ]
    }
   ],
   "source": [
    "import pandas as pd\n",
    "data={\"blenders\":[123,432,322],\n",
    "\"brands\":[\"saa\",\"kaa\",\"maa\"]\n",
    "}\n",
    "df=pd.Series(data)\n",
    "print(df)"
   ]
  },
  {
   "cell_type": "code",
   "execution_count": 4,
   "id": "02c38162-9972-4ff5-bfc5-a042615bfb91",
   "metadata": {},
   "outputs": [
    {
     "name": "stdout",
     "output_type": "stream",
     "text": [
      "      Name  Age         City\n",
      "0    Alice   25     New York\n",
      "1      Bob   30  Los Angeles\n",
      "2  Charlie   35      Chicago\n"
     ]
    }
   ],
   "source": [
    "import pandas as pd\n",
    "data = {\n",
    "'Name': ['Alice', 'Bob', 'Charlie'],\n",
    "'Age': [25, 30, 35],\n",
    "'City': ['New York', 'Los Angeles', 'Chicago']\n",
    "}\n",
    "df = pd.DataFrame(data)\n",
    "print(df)"
   ]
  },
  {
   "cell_type": "code",
   "execution_count": 37,
   "id": "6af2d269-7625-42b9-96ea-9434c567e95b",
   "metadata": {},
   "outputs": [
    {
     "name": "stdout",
     "output_type": "stream",
     "text": [
      "   TransactionID TransactionDate  UserID  ProductID  Quantity\n",
      "0              1      2010-08-21     7.0          2         1\n",
      "1              2      2011-05-26     3.0          4         1\n",
      "2              3      2011-06-16     3.0          3         1\n",
      "3              4      2012-08-26     1.0          2         3\n",
      "4              5      2013-06-06     2.0          4         1\n",
      "5              6      2013-12-23     2.0          5         6\n",
      "6              7      2013-12-30     3.0          4         1\n",
      "7              8      2014-04-24     NaN          2         3\n",
      "8              9      2015-04-24     7.0          4         3\n",
      "9             10      2016-05-08     3.0          4         4\n"
     ]
    }
   ],
   "source": [
    "import pandas as pd\n",
    "df=pd.read_csv(\"/home/user/Downloads/transactions.csv\")\n",
    "# print(df.head(5))   ...prints first 5rows\n",
    "print(df)\n",
    "# print(df.tail(5))   ....prints last 5rows\n",
    "# print(df.info())    .....gives you more information about the data set.\n",
    "# print(df.describe())     .....Summarizes data with metrics like mean, count, min, max, etc.\n",
    "\n"
   ]
  },
  {
   "cell_type": "code",
   "execution_count": 24,
   "id": "e0947366-783a-4cbf-aa51-4b9ecef8f486",
   "metadata": {},
   "outputs": [
    {
     "name": "stdout",
     "output_type": "stream",
     "text": [
      "      Name  Age     City\n",
      "2  Charlie   35  Chicago\n"
     ]
    }
   ],
   "source": [
    "import pandas as pd\n",
    "data = {\n",
    "'Name': ['Alice', 'Bob', 'Charlie'],\n",
    "'Age': [25, 30, 35],\n",
    "'City': ['New York', 'Los Angeles', 'Chicago']\n",
    "}\n",
    "df = pd.DataFrame(data)\n",
    "# print(df['Name']) ....Accessing a single column\n",
    "# print(df[['Name', 'City']])   ....Accessing multiple columns\n",
    "# print(df.iloc[2])      ......Access the second row\n",
    "# df['Name']      ...........Retrieves a specific column.\n",
    "# df.iloc[1]   .............Accesses a row by its position.\n",
    "filtered_df = df[df['Age'] > 30]\n",
    "print(filtered_df)"
   ]
  },
  {
   "cell_type": "code",
   "execution_count": 35,
   "id": "0e495532-c523-47eb-b118-60541f89892f",
   "metadata": {},
   "outputs": [
    {
     "name": "stdout",
     "output_type": "stream",
     "text": [
      "   TransactionID TransactionDate  UserID  ProductID  Quant\n",
      "0              1      2010-08-21     7.0          2      1\n",
      "1              2      2011-05-26     3.0          4      1\n",
      "2              3      2011-06-16     3.0          3      1\n",
      "3              4      2012-08-26     1.0          2      3\n",
      "4              5      2013-06-06     2.0          4      1\n"
     ]
    }
   ],
   "source": [
    "import pandas as pd\n",
    "df = pd.read_csv(\"/home/user/Downloads/transactions.csv\")\n",
    "df.rename(columns={\"Quantity\": \"Quant\"}, inplace=True)\n",
    "print(df.head())"
   ]
  },
  {
   "cell_type": "code",
   "execution_count": 33,
   "id": "2d09b712-ba99-4a81-a1ed-9ff7075fc837",
   "metadata": {},
   "outputs": [
    {
     "name": "stdout",
     "output_type": "stream",
     "text": [
      "name    4\n",
      "age     4\n",
      "city    4\n",
      "dtype: int64\n",
      "4\n",
      "3\n"
     ]
    }
   ],
   "source": [
    "import pandas as pd\n",
    "data={\n",
    "    'name':['kavya','lavanya','shailu','lll'],\n",
    "    'age':[20,19,21,1],\n",
    "    'city':['siddipet','karimnagar','nizambad','ad']\n",
    "}\n",
    "df=pd.DataFrame(data)\n",
    "print(df.count()) # prints count of rows\n",
    "print(df.shape[0])  #prints no of rows\n",
    "print(df.shape[1])  #prints no of columns\n"
   ]
  },
  {
   "cell_type": "code",
   "execution_count": 34,
   "id": "b3ab9b75-b9f1-4d65-ad36-4c69ddbed2a6",
   "metadata": {},
   "outputs": [
    {
     "name": "stdout",
     "output_type": "stream",
     "text": [
      "   TransactionID TransactionDate  UserID  ProductID  Quantity\n",
      "6              7      2013-12-30     3.0          4         1\n",
      "4              5      2013-06-06     2.0          4         1\n",
      "2              3      2011-06-16     3.0          3         1\n",
      "1              2      2011-05-26     3.0          4         1\n",
      "0              1      2010-08-21     7.0          2         1\n"
     ]
    }
   ],
   "source": [
    "import pandas as pd\n",
    "df = pd.read_csv(\"/home/user/Downloads/transactions.csv\")\n",
    "df_sorted = df.sort_values(by=[\"Quantity\", \"TransactionDate\"],\n",
    "ascending=[True, False])\n",
    "print(df_sorted.head())"
   ]
  },
  {
   "cell_type": "code",
   "execution_count": 1,
   "id": "49e2b3bf-333f-4e87-a168-e7885f8bcdfb",
   "metadata": {},
   "outputs": [],
   "source": [
    "import pandas as pd\n",
    "df=pd.read_csv(\"/home/user/Downloads/transactions.csv\")\n"
   ]
  },
  {
   "cell_type": "code",
   "execution_count": 2,
   "id": "6a7a93e6-99b0-40d2-8e93-ebab477ddc5c",
   "metadata": {},
   "outputs": [
    {
     "name": "stdout",
     "output_type": "stream",
     "text": [
      "       TransactionID    UserID  ProductID   Quantity\n",
      "count       10.00000  9.000000  10.000000  10.000000\n",
      "mean         5.50000  3.444444   3.400000   2.400000\n",
      "std          3.02765  2.127858   1.074968   1.712698\n",
      "min          1.00000  1.000000   2.000000   1.000000\n",
      "25%          3.25000  2.000000   2.250000   1.000000\n",
      "50%          5.50000  3.000000   4.000000   2.000000\n",
      "75%          7.75000  3.000000   4.000000   3.000000\n",
      "max         10.00000  7.000000   5.000000   6.000000\n"
     ]
    }
   ],
   "source": [
    "# 1. Print Summary of transaction data set\n",
    "print(df.describe())"
   ]
  },
  {
   "cell_type": "code",
   "execution_count": 3,
   "id": "e669cd76-8987-4c0a-bfb4-3018486f6508",
   "metadata": {},
   "outputs": [
    {
     "name": "stdout",
     "output_type": "stream",
     "text": [
      "5\n"
     ]
    }
   ],
   "source": [
    "# 2.Print Numbers of Attributes\n",
    "print(df.shape[1])"
   ]
  },
  {
   "cell_type": "code",
   "execution_count": 4,
   "id": "adab8340-dd9e-48fa-9144-0a6a9da9d6bb",
   "metadata": {},
   "outputs": [
    {
     "name": "stdout",
     "output_type": "stream",
     "text": [
      "10\n"
     ]
    }
   ],
   "source": [
    "# 3.. Print Numbers of Records\n",
    "print(df.shape[0])"
   ]
  },
  {
   "cell_type": "code",
   "execution_count": 5,
   "id": "6e5eaa65-8044-47f9-a88d-5bc0b1c87900",
   "metadata": {},
   "outputs": [
    {
     "name": "stdout",
     "output_type": "stream",
     "text": [
      "[0, 1, 2, 3, 4, 5, 6, 7, 8, 9]\n"
     ]
    }
   ],
   "source": [
    "# 4. Get the row names\n",
    "print(df.index.tolist())"
   ]
  },
  {
   "cell_type": "code",
   "execution_count": 6,
   "id": "39bd8663-88ed-4fc8-8443-981b1784f05d",
   "metadata": {},
   "outputs": [
    {
     "name": "stdout",
     "output_type": "stream",
     "text": [
      "Index(['TransactionID', 'TransactionDate', 'UserID', 'ProductID', 'Quantity'], dtype='object')\n"
     ]
    }
   ],
   "source": [
    "# 5.Get the column names\n",
    "print(df.columns)"
   ]
  },
  {
   "cell_type": "code",
   "execution_count": 7,
   "id": "ad6422ff-56ab-4b53-b960-4e90b68e36f2",
   "metadata": {},
   "outputs": [
    {
     "name": "stdout",
     "output_type": "stream",
     "text": [
      "   TransactionID TransactionDate  UserID  ProductID  Quantity\n",
      "0              1      2010-08-21     7.0          2         1\n",
      "1              2      2011-05-26     3.0          4         1\n",
      "2              3      2011-06-16     3.0          3         1\n",
      "3              4      2012-08-26     1.0          2         3\n",
      "4              5      2013-06-06     2.0          4         1\n",
      "5              6      2013-12-23     2.0          5         6\n",
      "6              7      2013-12-30     3.0          4         1\n",
      "7              8      2014-04-24     NaN          2         3\n",
      "8              9      2015-04-24     7.0          4         3\n",
      "9             10      2016-05-08     3.0          4         4\n"
     ]
    }
   ],
   "source": [
    "# 6. View top 10 Records\n",
    "print(df.head(10))"
   ]
  },
  {
   "cell_type": "code",
   "execution_count": 8,
   "id": "6539da3c-1d4d-4a6c-984d-787ec8ed72c5",
   "metadata": {},
   "outputs": [
    {
     "name": "stdout",
     "output_type": "stream",
     "text": [
      "   TransactionID TransactionDate  UserID  ProductID  Quant\n",
      "0              1      2010-08-21     7.0          2      1\n",
      "1              2      2011-05-26     3.0          4      1\n",
      "2              3      2011-06-16     3.0          3      1\n",
      "3              4      2012-08-26     1.0          2      3\n",
      "4              5      2013-06-06     2.0          4      1\n"
     ]
    }
   ],
   "source": [
    "# 7.Change the name of column “ Quantity” to “Quant” \n",
    "df.rename(columns={\"Quantity\": \"Quant\"}, inplace=True)\n",
    "print(df.head())"
   ]
  },
  {
   "cell_type": "code",
   "execution_count": 9,
   "id": "9ea8f20a-6b77-47ee-a656-d70f542372c9",
   "metadata": {},
   "outputs": [
    {
     "name": "stdout",
     "output_type": "stream",
     "text": [
      "   TransactionID TransactionDate  UID  PID  Quant\n",
      "0              1      2010-08-21  7.0    2      1\n",
      "1              2      2011-05-26  3.0    4      1\n",
      "2              3      2011-06-16  3.0    3      1\n",
      "3              4      2012-08-26  1.0    2      3\n",
      "4              5      2013-06-06  2.0    4      1\n"
     ]
    }
   ],
   "source": [
    "# 8..Change the name of columns ProductID and UserID\n",
    "df.rename(columns={\"ProductID\": \"PID\",\"UserID\":\"UID\"}, inplace=True)\n",
    "print(df.head())"
   ]
  },
  {
   "cell_type": "code",
   "execution_count": 10,
   "id": "95672300-8181-4eda-8495-4d27a474ebf3",
   "metadata": {},
   "outputs": [
    {
     "name": "stdout",
     "output_type": "stream",
     "text": [
      "   TransactionID TransactionDate  UID  PID  Quant\n",
      "9             10      2016-05-08  3.0    4      4\n",
      "8              9      2015-04-24  7.0    4      3\n",
      "7              8      2014-04-24  NaN    2      3\n",
      "6              7      2013-12-30  3.0    4      1\n",
      "5              6      2013-12-23  2.0    5      6\n"
     ]
    }
   ],
   "source": [
    "# 9. Order the rows of transactions by TransactionId descending, if ascending then ascending=True\n",
    "df_sorted = df.sort_values(by=[\"TransactionID\"],\n",
    "ascending=[False])\n",
    "print(df_sorted.head())"
   ]
  },
  {
   "cell_type": "code",
   "execution_count": 12,
   "id": "dfb6b235-ac81-44e7-b682-d47b2270b4f2",
   "metadata": {},
   "outputs": [
    {
     "name": "stdout",
     "output_type": "stream",
     "text": [
      "   TransactionID TransactionDate  UID  PID  Quant\n",
      "6              7      2013-12-30  3.0    4      1\n",
      "4              5      2013-06-06  2.0    4      1\n",
      "2              3      2011-06-16  3.0    3      1\n",
      "1              2      2011-05-26  3.0    4      1\n",
      "0              1      2010-08-21  7.0    2      1\n"
     ]
    }
   ],
   "source": [
    "# 10. Order the rows of transactions by Quantity ascending, TransactionDate descending\n",
    "df_sorted = df.sort_values(by=[\"Quant\", \"TransactionDate\"],\n",
    "ascending=[True, False])\n",
    "print(df_sorted.head())"
   ]
  },
  {
   "cell_type": "code",
   "execution_count": 13,
   "id": "da24f648-1145-4dcf-8f66-da060414b81a",
   "metadata": {},
   "outputs": [
    {
     "name": "stdout",
     "output_type": "stream",
     "text": [
      "   PID  Quant TransactionDate  TransactionID  UID\n",
      "0    2      1      2010-08-21              1  7.0\n",
      "1    4      1      2011-05-26              2  3.0\n",
      "2    3      1      2011-06-16              3  3.0\n",
      "3    2      3      2012-08-26              4  1.0\n",
      "4    4      1      2013-06-06              5  2.0\n",
      "5    5      6      2013-12-23              6  2.0\n",
      "6    4      1      2013-12-30              7  3.0\n",
      "7    2      3      2014-04-24              8  NaN\n",
      "8    4      3      2015-04-24              9  7.0\n",
      "9    4      4      2016-05-08             10  3.0\n"
     ]
    }
   ],
   "source": [
    "# 11. Set the column order of Transactions as ProductID, Quantity, TransactionDate, TransactionID, UserID\n",
    "df = df[[\"PID\", \"Quant\", \"TransactionDate\", \"TransactionID\", \"UID\"]]\n",
    "print(df)\n"
   ]
  },
  {
   "cell_type": "code",
   "execution_count": 16,
   "id": "53b6b526-adf1-425a-b8db-f1e2963764dd",
   "metadata": {},
   "outputs": [
    {
     "name": "stdout",
     "output_type": "stream",
     "text": [
      "   UID  PID  Quant TransactionDate  TransactionID\n",
      "0  7.0    2      1      2010-08-21              1\n",
      "1  3.0    4      1      2011-05-26              2\n",
      "2  3.0    3      1      2011-06-16              3\n",
      "3  1.0    2      3      2012-08-26              4\n",
      "4  2.0    4      1      2013-06-06              5\n",
      "5  2.0    5      6      2013-12-23              6\n",
      "6  3.0    4      1      2013-12-30              7\n",
      "7  NaN    2      3      2014-04-24              8\n",
      "8  7.0    4      3      2015-04-24              9\n",
      "9  3.0    4      4      2016-05-08             10\n"
     ]
    }
   ],
   "source": [
    "#12. Make UserID the first column of transactions\n",
    "cols = ['UID'] + [col for col in df.columns if col != 'UID']\n",
    "df = df[cols]\n",
    "print(df)"
   ]
  },
  {
   "cell_type": "code",
   "execution_count": 19,
   "id": "a8993e40-fbff-44e9-a7d6-a5c1f2d0c3a8",
   "metadata": {},
   "outputs": [
    {
     "name": "stdout",
     "output_type": "stream",
     "text": [
      "0    2\n",
      "1    4\n",
      "2    3\n",
      "3    2\n",
      "4    4\n",
      "5    5\n",
      "6    4\n",
      "7    2\n",
      "8    4\n",
      "9    4\n",
      "Name: PID, dtype: int64\n"
     ]
    }
   ],
   "source": [
    "# 13.Extracting arrays from a Data Frame. Get the 2nd column\n",
    "second_column = df.iloc[:, 1]\n",
    "print(second_column)"
   ]
  },
  {
   "cell_type": "code",
   "execution_count": 20,
   "id": "06236b94-2746-4568-9bd9-bf2d1c9c95ee",
   "metadata": {},
   "outputs": [
    {
     "name": "stdout",
     "output_type": "stream",
     "text": [
      "[2 4 3 2 4 5 4 2 4 4]\n"
     ]
    }
   ],
   "source": [
    "#15.. Get the ProductID Array\n",
    "product_id_array = df['PID'].to_numpy()\n",
    "print(product_id_array)"
   ]
  },
  {
   "cell_type": "code",
   "execution_count": 22,
   "id": "348b3010-6ab6-4635-8e7d-0d82da9c0446",
   "metadata": {},
   "outputs": [
    {
     "name": "stdout",
     "output_type": "stream",
     "text": [
      "   UID  PID  Quant TransactionDate  TransactionID\n",
      "1  3.0    4      1      2011-05-26              2\n",
      "3  1.0    2      3      2012-08-26              4\n",
      "6  3.0    4      1      2013-12-30              7\n"
     ]
    }
   ],
   "source": [
    "# 16.Row subsetting, subset rows 1,3 and 6\n",
    "subset_rows = df.iloc[[1, 3, 6]]\n",
    "print(subset_rows)"
   ]
  },
  {
   "cell_type": "code",
   "execution_count": 24,
   "id": "0a1d2efd-bbab-4d12-aec0-42863700acf4",
   "metadata": {},
   "outputs": [
    {
     "name": "stdout",
     "output_type": "stream",
     "text": [
      "   UID  PID  Quant TransactionDate  TransactionID\n",
      "0  7.0    2      1      2010-08-21              1\n",
      "2  3.0    3      1      2011-06-16              3\n",
      "4  2.0    4      1      2013-06-06              5\n",
      "5  2.0    5      6      2013-12-23              6\n",
      "7  NaN    2      3      2014-04-24              8\n",
      "8  7.0    4      3      2015-04-24              9\n",
      "9  3.0    4      4      2016-05-08             10\n"
     ]
    }
   ],
   "source": [
    "# 17.subset rows excluding 1,3 and 6\n",
    "subset_rows_excluding = df.drop([1, 3, 6])\n",
    "print(subset_rows_excluding)"
   ]
  },
  {
   "cell_type": "code",
   "execution_count": 25,
   "id": "1940e5b2-13a0-4f8b-9d63-09db0837c859",
   "metadata": {},
   "outputs": [
    {
     "name": "stdout",
     "output_type": "stream",
     "text": [
      "   UID  PID  Quant TransactionDate  TransactionID\n",
      "0  7.0    2      1      2010-08-21              1\n",
      "1  3.0    4      1      2011-05-26              2\n",
      "2  3.0    3      1      2011-06-16              3\n"
     ]
    }
   ],
   "source": [
    "# 18.Subset the first three rows\n",
    "first_three_rows = df.head(3)\n",
    "print(first_three_rows)"
   ]
  },
  {
   "cell_type": "code",
   "execution_count": 26,
   "id": "c5f26cad-8bdb-4aeb-9bec-b57917115495",
   "metadata": {},
   "outputs": [
    {
     "name": "stdout",
     "output_type": "stream",
     "text": [
      "   UID  PID  Quant TransactionDate  TransactionID\n",
      "8  7.0    4      3      2015-04-24              9\n",
      "9  3.0    4      4      2016-05-08             10\n"
     ]
    }
   ],
   "source": [
    "# 19.Subset the last 2 rows\n",
    "last_two_rows = df.tail(2)\n",
    "print(last_two_rows)"
   ]
  },
  {
   "cell_type": "code",
   "execution_count": 27,
   "id": "66a44210-7bd2-4a4d-b63f-91ce622ac902",
   "metadata": {},
   "outputs": [
    {
     "name": "stdout",
     "output_type": "stream",
     "text": [
      "   UID  PID  Quant TransactionDate  TransactionID\n",
      "0  7.0    2      1      2010-08-21              1\n",
      "1  3.0    4      1      2011-05-26              2\n",
      "2  3.0    3      1      2011-06-16              3\n",
      "3  1.0    2      3      2012-08-26              4\n",
      "4  2.0    4      1      2013-06-06              5\n",
      "5  2.0    5      6      2013-12-23              6\n",
      "6  3.0    4      1      2013-12-30              7\n",
      "7  NaN    2      3      2014-04-24              8\n"
     ]
    }
   ],
   "source": [
    "# 20.Subset rows excluding the last 2 rows\n",
    "subset_excluding_last_two = df.iloc[:-2]\n",
    "print(subset_excluding_last_two)"
   ]
  },
  {
   "cell_type": "code",
   "execution_count": 28,
   "id": "88f6ac96-d3ab-425f-b251-567186afb578",
   "metadata": {},
   "outputs": [
    {
     "name": "stdout",
     "output_type": "stream",
     "text": [
      "   UID  PID  Quant TransactionDate  TransactionID\n",
      "3  1.0    2      3      2012-08-26              4\n",
      "4  2.0    4      1      2013-06-06              5\n",
      "5  2.0    5      6      2013-12-23              6\n",
      "6  3.0    4      1      2013-12-30              7\n",
      "7  NaN    2      3      2014-04-24              8\n",
      "8  7.0    4      3      2015-04-24              9\n",
      "9  3.0    4      4      2016-05-08             10\n"
     ]
    }
   ],
   "source": [
    "#21.Subset rows excluding the first 3 rows\n",
    "subset_excluding_first_three = df.iloc[3:]\n",
    "print(subset_excluding_first_three)"
   ]
  },
  {
   "cell_type": "code",
   "execution_count": 30,
   "id": "79e29f3c-a8d3-46e3-9db4-937fa4af9048",
   "metadata": {},
   "outputs": [
    {
     "name": "stdout",
     "output_type": "stream",
     "text": [
      "   UID  PID  Quant TransactionDate  TransactionID\n",
      "3  1.0    2      3      2012-08-26              4\n",
      "5  2.0    5      6      2013-12-23              6\n",
      "7  NaN    2      3      2014-04-24              8\n",
      "8  7.0    4      3      2015-04-24              9\n",
      "9  3.0    4      4      2016-05-08             10\n"
     ]
    }
   ],
   "source": [
    "#22. Subset rows where Quantity>1\n",
    "subset_quantity = df[df['Quant'] > 1]\n",
    "print(subset_quantity)"
   ]
  },
  {
   "cell_type": "code",
   "execution_count": 32,
   "id": "32fca555-c247-4437-a0ad-dfdeb6574a1c",
   "metadata": {},
   "outputs": [
    {
     "name": "stdout",
     "output_type": "stream",
     "text": [
      "   UID  PID  Quant TransactionDate  TransactionID\n",
      "4  2.0    4      1      2013-06-06              5\n",
      "5  2.0    5      6      2013-12-23              6\n"
     ]
    }
   ],
   "source": [
    "# 23.Subset rows where UserID=2\n",
    "subset_userid_2 = df[df['UID'] == 2]\n",
    "print(subset_userid_2)"
   ]
  },
  {
   "cell_type": "code",
   "execution_count": 33,
   "id": "5a8efbbc-60ca-4569-be6b-ec306b24df67",
   "metadata": {},
   "outputs": [
    {
     "name": "stdout",
     "output_type": "stream",
     "text": [
      "   UID  PID  Quant TransactionDate  TransactionID\n",
      "5  2.0    5      6      2013-12-23              6\n"
     ]
    }
   ],
   "source": [
    "#24.Subset rows where Quantity>1 and UserID=2\n",
    "subset_df = df[(df['Quant'] > 1) & (df['UID'] == 2)]\n",
    "print(subset_df)\n"
   ]
  },
  {
   "cell_type": "code",
   "execution_count": 34,
   "id": "17ab6e3e-2151-42cb-a1e0-c16fe75bb3ec",
   "metadata": {},
   "outputs": [
    {
     "name": "stdout",
     "output_type": "stream",
     "text": [
      "   UID  PID  Quant TransactionDate  TransactionID\n",
      "0  7.0    2      1      2010-08-21              1\n",
      "1  3.0    4      1      2011-05-26              2\n",
      "2  3.0    3      1      2011-06-16              3\n",
      "3  1.0    2      3      2012-08-26              4\n",
      "5  2.0    5      6      2013-12-23              6\n",
      "6  3.0    4      1      2013-12-30              7\n",
      "8  7.0    4      3      2015-04-24              9\n",
      "9  3.0    4      4      2016-05-08             10\n"
     ]
    }
   ],
   "source": [
    "#25.Subset rows where Quantity + UserID is >3\n",
    "subset_df = df[(df['Quant'] + df['UID']) > 3]\n",
    "print(subset_df)\n"
   ]
  },
  {
   "cell_type": "code",
   "execution_count": 40,
   "id": "0f66a975-889f-463f-be88-f7d8826d942f",
   "metadata": {},
   "outputs": [],
   "source": [
    "#26. Subset rows where an external array, foo, is True\n",
    "# subset_df = df[foo]\n",
    "# print(subset_df)\n"
   ]
  },
  {
   "cell_type": "code",
   "execution_count": null,
   "id": "04b71392-931d-465c-b5ff-32c5247ceed6",
   "metadata": {},
   "outputs": [],
   "source": [
    "#27.Subset rows where an external array, bar, is positive"
   ]
  },
  {
   "cell_type": "code",
   "execution_count": null,
   "id": "176fc0d0-ab8e-4221-aac8-eb48b4249e3d",
   "metadata": {},
   "outputs": [],
   "source": [
    "#28.Subset rows where foo is TRUE or bar is negative"
   ]
  },
  {
   "cell_type": "code",
   "execution_count": null,
   "id": "2eb31660-7ae5-4453-85d4-ef63d2f40073",
   "metadata": {},
   "outputs": [],
   "source": [
    "#29. Subset the rows where foo is not TRUE and bar is not negative"
   ]
  },
  {
   "cell_type": "code",
   "execution_count": 41,
   "id": "cacb5c27-9bfe-42b0-8fe0-f218d59720a5",
   "metadata": {},
   "outputs": [
    {
     "name": "stdout",
     "output_type": "stream",
     "text": [
      "   PID TransactionDate\n",
      "0    2      2010-08-21\n",
      "1    4      2011-05-26\n",
      "2    3      2011-06-16\n",
      "3    2      2012-08-26\n",
      "4    4      2013-06-06\n",
      "5    5      2013-12-23\n",
      "6    4      2013-12-30\n",
      "7    2      2014-04-24\n",
      "8    4      2015-04-24\n",
      "9    4      2016-05-08\n"
     ]
    }
   ],
   "source": [
    "# 30. Subset by columns 1 and 3\n",
    "subset_df = df.iloc[:, [1, 3]]\n",
    "print(subset_df)\n"
   ]
  },
  {
   "cell_type": "code",
   "execution_count": 42,
   "id": "8d6024d1-64e2-4e59-bd0d-1da7d1638aa5",
   "metadata": {},
   "outputs": [
    {
     "name": "stdout",
     "output_type": "stream",
     "text": [
      "   TransactionID TransactionDate\n",
      "0              1      2010-08-21\n",
      "1              2      2011-05-26\n",
      "2              3      2011-06-16\n",
      "3              4      2012-08-26\n",
      "4              5      2013-06-06\n",
      "5              6      2013-12-23\n",
      "6              7      2013-12-30\n",
      "7              8      2014-04-24\n",
      "8              9      2015-04-24\n",
      "9             10      2016-05-08\n"
     ]
    }
   ],
   "source": [
    "# 31. Subset by columns TransactionID and TransactionDate\n",
    "subset_df = df[['TransactionID', 'TransactionDate']]\n",
    "print(subset_df)\n"
   ]
  },
  {
   "cell_type": "code",
   "execution_count": 43,
   "id": "2e1cc874-c5f4-4c8e-8b99-ad39d77f6e70",
   "metadata": {},
   "outputs": [
    {
     "name": "stdout",
     "output_type": "stream",
     "text": [
      "  TransactionDate  TransactionID\n",
      "0      2010-08-21              1\n",
      "1      2011-05-26              2\n",
      "2      2011-06-16              3\n",
      "3      2012-08-26              4\n",
      "4      2013-06-06              5\n",
      "5      2013-12-23              6\n",
      "6      2013-12-30              7\n",
      "7      2014-04-24              8\n",
      "8      2015-04-24              9\n",
      "9      2016-05-08             10\n"
     ]
    }
   ],
   "source": [
    "# 32. Subset by columns TransactionID and TransactionDate with logical operator\n",
    "subset_df = df.loc[:, (df.columns == 'TransactionID') | (df.columns == 'TransactionDate')]\n",
    "print(subset_df)\n"
   ]
  },
  {
   "cell_type": "code",
   "execution_count": 44,
   "id": "260d7baa-a0eb-40d3-b5dc-ceb0f92eb101",
   "metadata": {},
   "outputs": [
    {
     "name": "stdout",
     "output_type": "stream",
     "text": [
      "   TransactionID TransactionDate\n",
      "0              1      2010-08-21\n",
      "1              2      2011-05-26\n",
      "2              3      2011-06-16\n",
      "3              4      2012-08-26\n",
      "4              5      2013-06-06\n",
      "5              6      2013-12-23\n",
      "6              7      2013-12-30\n",
      "7              8      2014-04-24\n",
      "8              9      2015-04-24\n",
      "9             10      2016-05-08\n"
     ]
    }
   ],
   "source": [
    "# 33. Subset columns by a variable list of column names\n",
    "column_list = ['TransactionID', 'TransactionDate']  # Define the column names\n",
    "subset_df = df[column_list]\n",
    "print(subset_df)\n"
   ]
  },
  {
   "cell_type": "code",
   "execution_count": 45,
   "id": "056836ce-652a-45c4-bb10-ded179f70aa5",
   "metadata": {},
   "outputs": [
    {
     "name": "stdout",
     "output_type": "stream",
     "text": [
      "   UID  PID  Quant\n",
      "0  7.0    2      1\n",
      "1  3.0    4      1\n",
      "2  3.0    3      1\n",
      "3  1.0    2      3\n",
      "4  2.0    4      1\n",
      "5  2.0    5      6\n",
      "6  3.0    4      1\n",
      "7  NaN    2      3\n",
      "8  7.0    4      3\n",
      "9  3.0    4      4\n"
     ]
    }
   ],
   "source": [
    "# 34. Subset columns excluding a variable list of column names\n",
    "exclude_columns = ['TransactionID', 'TransactionDate']  # Columns to exclude\n",
    "subset_df = df.drop(columns=exclude_columns)\n",
    "print(subset_df)\n"
   ]
  },
  {
   "cell_type": "code",
   "execution_count": 46,
   "id": "1a42d1a1-4e5f-48f3-835d-07c03fac9e18",
   "metadata": {},
   "outputs": [
    {
     "name": "stdout",
     "output_type": "stream",
     "text": [
      "   UID  PID  Quant TransactionDate  TransactionID     NewColumn\n",
      "0  7.0    2      1      2010-08-21              1  DefaultValue\n",
      "1  3.0    4      1      2011-05-26              2  DefaultValue\n",
      "2  3.0    3     99      2011-06-16              3  DefaultValue\n",
      "3  1.0    2      3      2012-08-26              4  DefaultValue\n",
      "4  2.0    4      1      2013-06-06              5  DefaultValue\n",
      "5  2.0    5      6      2013-12-23              6  DefaultValue\n",
      "6  3.0    4      1      2013-12-30              7  DefaultValue\n",
      "7  NaN    2      3      2014-04-24              8  DefaultValue\n",
      "8  7.0    4      3      2015-04-24              9  DefaultValue\n",
      "9  3.0    4      4      2016-05-08             10  DefaultValue\n"
     ]
    }
   ],
   "source": [
    "# 35. Inserting and updating values\n",
    "df.loc[2, 'Quant'] = 99  # Update a specific value\n",
    "df['NewColumn'] = 'DefaultValue'  # Insert a new column with a default value\n",
    "print(df)\n"
   ]
  },
  {
   "cell_type": "code",
   "execution_count": 47,
   "id": "8763bcd6-6e1e-4777-adb1-7f6f41924ce4",
   "metadata": {},
   "outputs": [
    {
     "name": "stdout",
     "output_type": "stream",
     "text": [
      "UID                       float64\n",
      "PID                         int64\n",
      "Quant                       int64\n",
      "TransactionDate    datetime64[ns]\n",
      "TransactionID               int64\n",
      "NewColumn                  object\n",
      "dtype: object\n"
     ]
    }
   ],
   "source": [
    "# 36. Convert the TransactionDate column to type Date\n",
    "df['TransactionDate'] = pd.to_datetime(df['TransactionDate'])\n",
    "print(df.dtypes)  # Verify the type conversion\n"
   ]
  },
  {
   "cell_type": "code",
   "execution_count": 49,
   "id": "a8a7d8e5-f1fb-4019-84e3-daa118cd77a9",
   "metadata": {},
   "outputs": [],
   "source": [
    "# 37. Insert a new column, Foo=UserID+ProductID\n",
    "#df['Foo'] = df['UserID'] + df['ProductID']\n",
    "#print(df)\n"
   ]
  },
  {
   "cell_type": "code",
   "execution_count": 3,
   "id": "5f29506c-5288-4e35-baf2-b8bb0e532446",
   "metadata": {},
   "outputs": [],
   "source": [
    "import seaborn as sb"
   ]
  },
  {
   "cell_type": "code",
   "execution_count": null,
   "id": "60e11b6b-27ba-431e-a386-9824d3aa99d9",
   "metadata": {},
   "outputs": [],
   "source": []
  }
 ],
 "metadata": {
  "kernelspec": {
   "display_name": "Python 3 (ipykernel)",
   "language": "python",
   "name": "python3"
  },
  "language_info": {
   "codemirror_mode": {
    "name": "ipython",
    "version": 3
   },
   "file_extension": ".py",
   "mimetype": "text/x-python",
   "name": "python",
   "nbconvert_exporter": "python",
   "pygments_lexer": "ipython3",
   "version": "3.11.7"
  }
 },
 "nbformat": 4,
 "nbformat_minor": 5
}
